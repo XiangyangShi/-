{
 "cells": [
  {
   "cell_type": "markdown",
   "metadata": {},
   "source": [
    "# 5月8号 周三\n",
    "`到达` <br>\n",
    "`住宿`： 学校宾馆"
   ]
  },
  {
   "cell_type": "markdown",
   "metadata": {},
   "source": [
    "# 5月9号 周四\n",
    "\n",
    "时间     |项目   \n",
    "--------|-------\n",
    "2:00    |参观校园\n",
    "\n",
    "`中饭`： 学校食堂 <br>\n",
    "`晚饭`： sun nong dan 韩式辣牛肉 <br>\n",
    "`住宿`： 学校宾馆 \n",
    "\n",
    "> + 今天主要是为了倒个时差，很可能一觉睡到中午或者早上很早醒来，各人自己调整不必强求，早饭中饭可以在学校食堂。学校食堂装潢很有趣。今天主要是为了好好休息。\n",
    "> + 借两辆车，请各位司机带好护照和驾照。\n",
    "> + [sun nong dan](https://www.sunnongdan.com) 是在韩国都非常有名的辣牛肉餐厅，很多同学来洛杉矶第一顿都会去吃一趟。坐落在韩国城中心，非常有特色。去晚了可能要排很长时间的队。\n",
    "> + 晚上住宿可以想想有什么物资需要补充，我们可以去趟超市\n",
    "\n",
    "<div>\n",
    "<img src='./src/1.png' width=160 align='left' valign='top'>\n",
    "<img src='./src/0.png' width=200 align='left' valign='top'>\n",
    "</div>\n"
   ]
  },
  {
   "cell_type": "markdown",
   "metadata": {},
   "source": [
    "# 5月10号\n",
    "\n"
   ]
  },
  {
   "cell_type": "markdown",
   "metadata": {},
   "source": [
    "# 5月11号\n",
    "\n"
   ]
  },
  {
   "cell_type": "markdown",
   "metadata": {},
   "source": [
    "# 5月12号\n",
    "\n"
   ]
  },
  {
   "cell_type": "markdown",
   "metadata": {},
   "source": [
    "# 5月13号\n",
    "\n"
   ]
  },
  {
   "cell_type": "markdown",
   "metadata": {},
   "source": [
    "# 5月14号\n",
    "\n"
   ]
  },
  {
   "cell_type": "markdown",
   "metadata": {},
   "source": [
    "# 5月15号\n",
    "\n"
   ]
  },
  {
   "cell_type": "markdown",
   "metadata": {},
   "source": [
    "# 5月16号"
   ]
  },
  {
   "cell_type": "markdown",
   "metadata": {},
   "source": [
    "# 5月17号"
   ]
  },
  {
   "cell_type": "markdown",
   "metadata": {},
   "source": [
    "# 5月18号"
   ]
  },
  {
   "cell_type": "markdown",
   "metadata": {},
   "source": [
    "# 5月19号"
   ]
  },
  {
   "cell_type": "markdown",
   "metadata": {},
   "source": [
    "# 5月20号"
   ]
  },
  {
   "cell_type": "markdown",
   "metadata": {},
   "source": [
    "# 5月21号"
   ]
  },
  {
   "cell_type": "markdown",
   "metadata": {},
   "source": [
    "# 5月22号"
   ]
  },
  {
   "cell_type": "markdown",
   "metadata": {},
   "source": [
    "# 5月23号"
   ]
  },
  {
   "cell_type": "markdown",
   "metadata": {},
   "source": [
    "# 5月24号"
   ]
  },
  {
   "cell_type": "code",
   "execution_count": null,
   "metadata": {},
   "outputs": [],
   "source": []
  },
  {
   "cell_type": "code",
   "execution_count": null,
   "metadata": {},
   "outputs": [],
   "source": []
  }
 ],
 "metadata": {
  "kernelspec": {
   "display_name": "Python 2",
   "language": "python",
   "name": "python2"
  },
  "language_info": {
   "codemirror_mode": {
    "name": "ipython",
    "version": 2
   },
   "file_extension": ".py",
   "mimetype": "text/x-python",
   "name": "python",
   "nbconvert_exporter": "python",
   "pygments_lexer": "ipython2",
   "version": "2.7.13"
  }
 },
 "nbformat": 4,
 "nbformat_minor": 2
}
